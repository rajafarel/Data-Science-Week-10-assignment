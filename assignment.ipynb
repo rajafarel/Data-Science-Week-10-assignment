{
 "cells": [
  {
   "cell_type": "markdown",
   "metadata": {
    "id": "8ZonY_oYNjt_"
   },
   "source": [
    "<b>USER BASED RECOMMENDER SYSTEM"
   ]
  },
  {
   "cell_type": "markdown",
   "metadata": {
    "id": "k5Xr9Dv4NjuF"
   },
   "source": [
    "Steps in a user-based recommendation system:\n",
    "\n",
    "1. Select a user with the movies the user has watched\n",
    "2. Based on his rating to movies, find the top x neighbours\n",
    "3. Get the watched movie record of the user for each neighbour.\n",
    "4. Calculate a similarity score using some formula\n",
    "5. Recommend the items with the highest score"
   ]
  },
  {
   "cell_type": "code",
   "execution_count": 1,
   "metadata": {
    "id": "m32700SVNjuL"
   },
   "outputs": [],
   "source": [
    "import pandas as pd\n",
    "from math import sqrt\n",
    "import numpy as np\n"
   ]
  },
  {
   "cell_type": "code",
   "execution_count": 2,
   "metadata": {
    "colab": {
     "base_uri": "https://localhost:8080/"
    },
    "id": "maXzLmxGNjuO",
    "outputId": "56e5ab06-19e8-44e0-c078-1b43cd5d094e"
   },
   "outputs": [
    {
     "name": "stdout",
     "output_type": "stream",
     "text": [
      "<class 'pandas.core.frame.DataFrame'>\n",
      "RangeIndex: 9742 entries, 0 to 9741\n",
      "Data columns (total 3 columns):\n",
      " #   Column   Non-Null Count  Dtype \n",
      "---  ------   --------------  ----- \n",
      " 0   movieId  9742 non-null   int64 \n",
      " 1   title    9742 non-null   object\n",
      " 2   genres   9742 non-null   object\n",
      "dtypes: int64(1), object(2)\n",
      "memory usage: 228.5+ KB\n",
      "None\n",
      "   movieId                               title  \\\n",
      "0        1                    Toy Story (1995)   \n",
      "1        2                      Jumanji (1995)   \n",
      "2        3             Grumpier Old Men (1995)   \n",
      "3        4            Waiting to Exhale (1995)   \n",
      "4        5  Father of the Bride Part II (1995)   \n",
      "\n",
      "                                        genres  \n",
      "0  Adventure|Animation|Children|Comedy|Fantasy  \n",
      "1                   Adventure|Children|Fantasy  \n",
      "2                               Comedy|Romance  \n",
      "3                         Comedy|Drama|Romance  \n",
      "4                                       Comedy  \n",
      "   userId  movieId  rating  timestamp\n",
      "0       1        1     4.0  964982703\n",
      "1       1        3     4.0  964981247\n",
      "2       1        6     4.0  964982224\n",
      "3       1       47     5.0  964983815\n",
      "4       1       50     5.0  964982931\n"
     ]
    }
   ],
   "source": [
    "movies_df = pd.read_csv('movies.csv')\n",
    "ratings_df = pd.read_csv('ratings.csv')\n",
    "print(movies_df.info())\n",
    "print(movies_df.head())\n",
    "print(ratings_df.head())\n",
    "\n"
   ]
  },
  {
   "cell_type": "code",
   "execution_count": 3,
   "metadata": {
    "colab": {
     "base_uri": "https://localhost:8080/"
    },
    "id": "gW_QBJHLNjuP",
    "outputId": "8a2fb439-31cc-4c8d-d511-3cab2f9cdf02"
   },
   "outputs": [
    {
     "name": "stdout",
     "output_type": "stream",
     "text": [
      "                                title  rating\n",
      "0                    Toy Story (1995)       4\n",
      "1                      Jumanji (1995)       4\n",
      "2             Grumpier Old Men (1995)       4\n",
      "3            Waiting to Exhale (1995)       5\n",
      "4  Father of the Bride Part II (1995)       5\n"
     ]
    }
   ],
   "source": [
    "userInput = [{'title':'Toy Story (1995)', 'rating':4},\n",
    "             {'title':'Jumanji (1995)', 'rating':4},\n",
    "             {'title':'Grumpier Old Men (1995)', 'rating':4},\n",
    "             {'title':'Waiting to Exhale (1995)', 'rating':5},\n",
    "             {'title':'Father of the Bride Part II (1995)', 'rating':5}]\n",
    "inputMovies = pd.DataFrame(userInput)\n",
    "print(inputMovies)"
   ]
  },
  {
   "cell_type": "code",
   "execution_count": 4,
   "metadata": {
    "colab": {
     "base_uri": "https://localhost:8080/"
    },
    "id": "SFApFIiDNjuR",
    "outputId": "a8fde0a4-b7db-434a-e665-c89ee59d5fa9"
   },
   "outputs": [
    {
     "name": "stdout",
     "output_type": "stream",
     "text": [
      "   movieId                               title  rating\n",
      "0        1                    Toy Story (1995)       4\n",
      "1        2                      Jumanji (1995)       4\n",
      "2        3             Grumpier Old Men (1995)       4\n",
      "3        4            Waiting to Exhale (1995)       5\n",
      "4        5  Father of the Bride Part II (1995)       5\n"
     ]
    }
   ],
   "source": [
    "inputId = movies_df[movies_df['title'].isin(inputMovies['title'].tolist())]\n",
    "inputMovies = pd.merge(inputId, inputMovies)\n",
    "#inputMovies = inputMovies.drop('year', 1) #we don't really need this at the moment\n",
    "inputMovies = inputMovies[['movieId','title','rating']]\n",
    "print(inputMovies)"
   ]
  },
  {
   "cell_type": "markdown",
   "metadata": {
    "id": "r_23sJ1vNjuS"
   },
   "source": [
    "#### Now with the `movieId` in our input, we can now get the subset of users that have watched and reviewed the movies in our input. Find the similar user taste."
   ]
  },
  {
   "cell_type": "code",
   "execution_count": 5,
   "metadata": {
    "colab": {
     "base_uri": "https://localhost:8080/"
    },
    "id": "BmGI-DmrNjuS",
    "outputId": "2a8aa4c0-6e33-4ca5-cbc4-62077f98bd49"
   },
   "outputs": [
    {
     "name": "stdout",
     "output_type": "stream",
     "text": [
      "         userId  rating  timestamp\n",
      "movieId                           \n",
      "1           215     215        215\n",
      "2           110     110        110\n",
      "3            52      52         52\n",
      "4             7       7          7\n",
      "5            49      49         49\n"
     ]
    }
   ],
   "source": [
    "userSubset = ratings_df[ratings_df['movieId'].isin(inputMovies['movieId'].tolist())]\n",
    "print(userSubset.groupby('movieId').count())"
   ]
  },
  {
   "cell_type": "code",
   "execution_count": 6,
   "metadata": {
    "colab": {
     "base_uri": "https://localhost:8080/"
    },
    "id": "-1566eb1NjuU",
    "outputId": "69a550bb-a743-496c-8bab-a90feb023b06"
   },
   "outputs": [
    {
     "name": "stdout",
     "output_type": "stream",
     "text": [
      "[((6,),      userId  movieId  rating  timestamp\n",
      "560       6        2     4.0  845553522\n",
      "561       6        3     5.0  845554296\n",
      "562       6        4     3.0  845554349\n",
      "563       6        5     5.0  845553938), ((68,),        userId  movieId  rating   timestamp\n",
      "10360      68        1     2.5  1158531426\n",
      "10361      68        2     2.5  1158532776\n",
      "10362      68        3     2.0  1158533415\n",
      "10363      68        5     2.0  1158533624), ((169,),        userId  movieId  rating   timestamp\n",
      "24321     169        1     4.5  1059427918\n",
      "24322     169        2     4.0  1078284713\n",
      "24323     169        3     5.0  1078284750\n",
      "24324     169        5     5.0  1078284788), ((288,),        userId  movieId  rating   timestamp\n",
      "42114     288        1     4.5  1054568869\n",
      "42115     288        2     2.0   978467973\n",
      "42116     288        3     4.0   975691635\n",
      "42117     288        5     2.0   978622571), ((414,),        userId  movieId  rating  timestamp\n",
      "62294     414        1     4.0  961438127\n",
      "62295     414        2     3.0  961594981\n",
      "62296     414        3     4.0  961439278\n",
      "62297     414        5     2.0  961437647)]\n"
     ]
    }
   ],
   "source": [
    "#Groupby creates several sub dataframes where they all have the same value in the column specified as the parameter\n",
    "userSubsetGroup = userSubset.groupby(['userId'])\n",
    "\n",
    "def take_5_elem(x):\n",
    "    # print (len(x[1]))\n",
    "    return len(x[1])\n",
    "    \n",
    "\n",
    "#Sorting it so users with movie most in common with the input will have priority\n",
    "userSubsetGroup = sorted(userSubsetGroup, key=take_5_elem, reverse=True)\n",
    "\n",
    "userSubsetGroup = userSubsetGroup[0:100]\n",
    "print(userSubsetGroup[0:5])\n"
   ]
  },
  {
   "cell_type": "code",
   "execution_count": 7,
   "metadata": {
    "id": "h_KYBeMtNjuV"
   },
   "outputs": [],
   "source": [
    "#Store the Pearson Correlation in a dictionary, where the key is the user Id and the value is the coefficient\n",
    "pearsonCorrelationDict = {}\n",
    "\n",
    "#For every user group in our subset\n",
    "for name, group in userSubsetGroup:\n",
    "\n",
    "    #Let's start by sorting the input and current user group so the values aren't mixed up later on\n",
    "    group = group.sort_values(by='movieId')\n",
    "    inputMovies = inputMovies.sort_values(by='movieId')\n",
    "\n",
    "    #Get the N for the formula\n",
    "    nRatings = len(group)\n",
    "\n",
    "    #Get the review scores for the movies that they both have in common\n",
    "    temp_df = inputMovies[inputMovies['movieId'].isin(group['movieId'].tolist())]\n",
    "\n",
    "    #And then store them in a temporary buffer variable in a list format to facilitate future calculations\n",
    "    tempRatingList = temp_df['rating'].tolist()\n",
    "   \n",
    "    #Let's also put the current user group reviews in a list format\n",
    "    tempGroupList = group['rating'].tolist()\n",
    "   \n",
    "    \n",
    "    #Now let's calculate the pearson correlation between two users, so called, x and y manually (check the formula from week 7 slide)\n",
    "    Sxx = sum([i**2 for i in tempRatingList]) - pow(sum(tempRatingList),2)/float(nRatings)\n",
    "    Syy = sum([i**2 for i in tempGroupList]) - pow(sum(tempGroupList),2)/float(nRatings)\n",
    "    Sxy = sum( i*j for i, j in zip(tempRatingList, tempGroupList)) - sum(tempRatingList)*sum(tempGroupList)/float(nRatings)\n",
    "\n",
    "    #If the denominator is different than zero, then divide, else, 0 correlation.\n",
    "    if Sxx != 0 and Syy != 0:\n",
    "        pearsonCorrelationDict[name] = Sxy/sqrt(Sxx*Syy)\n",
    "    else:\n",
    "        pearsonCorrelationDict[name] = 0\n",
    "    \n"
   ]
  },
  {
   "cell_type": "code",
   "execution_count": 8,
   "metadata": {
    "colab": {
     "base_uri": "https://localhost:8080/"
    },
    "id": "Ozp4EqHsNjuX",
    "outputId": "890b43f3-99f9-4092-a6f1-bc49ad4218d7"
   },
   "outputs": [
    {
     "name": "stdout",
     "output_type": "stream",
     "text": [
      "   similarityIndex  userId\n",
      "0        -0.301511    (6,)\n",
      "1        -0.577350   (68,)\n",
      "2         0.522233  (169,)\n",
      "3        -0.570352  (288,)\n",
      "4        -0.870388  (414,)\n"
     ]
    }
   ],
   "source": [
    "pearsonDF = pd.DataFrame.from_dict(pearsonCorrelationDict, orient='index')\n",
    "pearsonDF.columns = ['similarityIndex']\n",
    "pearsonDF['userId'] = pearsonDF.index\n",
    "pearsonDF.index = range(len(pearsonDF))\n",
    "print(pearsonDF.head())\n"
   ]
  },
  {
   "cell_type": "code",
   "execution_count": 9,
   "metadata": {
    "colab": {
     "base_uri": "https://localhost:8080/"
    },
    "id": "R89syb-KNjuY",
    "outputId": "2353f489-89af-4f8f-d03b-6b762a6ae355"
   },
   "outputs": [
    {
     "name": "stdout",
     "output_type": "stream",
     "text": [
      "    similarityIndex  userId\n",
      "47         1.000000      58\n",
      "65         1.000000     200\n",
      "2          0.522233     169\n",
      "59         0.000000     151\n",
      "69         0.000000     232\n"
     ]
    }
   ],
   "source": [
    "topUsers=pearsonDF.sort_values(by='similarityIndex', ascending=False)[0:50]\n",
    "topUsers['userId'] = topUsers['userId'].apply(lambda x: x[0])\n",
    "print(topUsers.head())"
   ]
  },
  {
   "cell_type": "code",
   "execution_count": 10,
   "metadata": {
    "colab": {
     "base_uri": "https://localhost:8080/"
    },
    "id": "Y5BLrcz7NjuZ",
    "outputId": "5bd49ea3-3d4a-4780-e3ca-566ba240d2d4"
   },
   "outputs": [
    {
     "name": "stdout",
     "output_type": "stream",
     "text": [
      "    similarityIndex  userId  movieId  rating  timestamp\n",
      "0               1.0      58        3     3.0  847719397\n",
      "1               1.0      58        5     4.0  847719151\n",
      "2               1.0      58        7     5.0  847719397\n",
      "3               1.0      58       19     1.0  847718718\n",
      "4               1.0      58       21     4.0  847718718\n",
      "..              ...     ...      ...     ...        ...\n",
      "95              1.0      58      552     3.0  847719108\n",
      "96              1.0      58      555     3.0  847719035\n",
      "97              1.0      58      587     4.0  847718674\n",
      "98              1.0      58      588     5.0  847718433\n",
      "99              1.0      58      589     4.0  847718617\n",
      "\n",
      "[100 rows x 5 columns]\n"
     ]
    }
   ],
   "source": [
    "topUsersRating=topUsers.merge(ratings_df, left_on='userId', right_on='userId', how='inner')\n",
    "print(topUsersRating.head(100))"
   ]
  },
  {
   "cell_type": "code",
   "execution_count": 11,
   "metadata": {
    "colab": {
     "base_uri": "https://localhost:8080/"
    },
    "id": "xHTIZNdwNjuZ",
    "outputId": "cbf5e0c0-9f17-436f-9ce9-d3e9e0f542ac"
   },
   "outputs": [
    {
     "name": "stdout",
     "output_type": "stream",
     "text": [
      "   similarityIndex  userId  movieId  rating  timestamp  weightedRating\n",
      "0              1.0      58        3     3.0  847719397             3.0\n",
      "1              1.0      58        5     4.0  847719151             4.0\n",
      "2              1.0      58        7     5.0  847719397             5.0\n",
      "3              1.0      58       19     1.0  847718718             1.0\n",
      "4              1.0      58       21     4.0  847718718             4.0\n"
     ]
    }
   ],
   "source": [
    "#Multiplies the similarity by the user’s ratings\n",
    "topUsersRating['weightedRating'] = topUsersRating['similarityIndex']*topUsersRating['rating']\n",
    "print(topUsersRating.head())"
   ]
  },
  {
   "cell_type": "code",
   "execution_count": 12,
   "metadata": {
    "colab": {
     "base_uri": "https://localhost:8080/"
    },
    "id": "nsQ624GXNjua",
    "outputId": "27f6df7a-0a87-45a6-fc5d-66355104d7c1"
   },
   "outputs": [
    {
     "name": "stdout",
     "output_type": "stream",
     "text": [
      "         sum_similarityIndex  sum_weightedRating\n",
      "movieId                                         \n",
      "1                   1.522233            5.850048\n",
      "2                   0.522233            2.088932\n",
      "3                   1.522233            5.611165\n",
      "4                   0.000000            0.000000\n",
      "5                   2.522233           10.611165\n"
     ]
    }
   ],
   "source": [
    "#Applies a sum to the topUsers after grouping it up by movieId\n",
    "tempTopUsersRating = topUsersRating.groupby('movieId').sum()[['similarityIndex','weightedRating']]\n",
    "tempTopUsersRating.columns = ['sum_similarityIndex','sum_weightedRating']\n",
    "print(tempTopUsersRating.head())"
   ]
  },
  {
   "cell_type": "code",
   "execution_count": 13,
   "metadata": {
    "colab": {
     "base_uri": "https://localhost:8080/"
    },
    "id": "yFLw-nzNNjua",
    "outputId": "cfff0281-824b-4cfe-be3b-be8c731b300c"
   },
   "outputs": [
    {
     "name": "stdout",
     "output_type": "stream",
     "text": [
      "         weighted average recommendation score  movieId\n",
      "movieId                                                \n",
      "1                                     3.843070        1\n",
      "2                                     4.000000        2\n",
      "3                                     3.686141        3\n",
      "4                                          NaN        4\n",
      "5                                     4.207052        5\n",
      "6                                          NaN        6\n",
      "7                                     4.828465        7\n",
      "8                                          NaN        8\n",
      "9                                          NaN        9\n",
      "10                                    4.500000       10\n"
     ]
    }
   ],
   "source": [
    "#Creates an empty dataframe\n",
    "recommendation_df = pd.DataFrame()\n",
    "\n",
    "#Now we take the weighted average\n",
    "recommendation_df['weighted average recommendation score'] = tempTopUsersRating['sum_weightedRating']/tempTopUsersRating['sum_similarityIndex']\n",
    "recommendation_df['movieId'] = tempTopUsersRating.index\n",
    "print(recommendation_df.head(10))"
   ]
  },
  {
   "cell_type": "code",
   "execution_count": 14,
   "metadata": {
    "colab": {
     "base_uri": "https://localhost:8080/"
    },
    "id": "A1tNpC07Njuc",
    "outputId": "ba39731b-81a8-4fec-e381-c813cd0cbf5b"
   },
   "outputs": [
    {
     "name": "stdout",
     "output_type": "stream",
     "text": [
      "         weighted average recommendation score  movieId\n",
      "movieId                                                \n",
      "1136                                       5.0     1136\n",
      "342                                        5.0      342\n",
      "337                                        5.0      337\n",
      "7318                                       5.0     7318\n",
      "31878                                      5.0    31878\n",
      "...                                        ...      ...\n",
      "185029                                     NaN   185029\n",
      "185435                                     NaN   185435\n",
      "187593                                     NaN   187593\n",
      "187595                                     NaN   187595\n",
      "188301                                     NaN   188301\n",
      "\n",
      "[5155 rows x 2 columns]\n"
     ]
    }
   ],
   "source": [
    "recommendation_df = recommendation_df.sort_values(by='weighted average recommendation score', ascending=False)\n",
    "print(recommendation_df)\n"
   ]
  },
  {
   "cell_type": "code",
   "execution_count": 15,
   "metadata": {
    "colab": {
     "base_uri": "https://localhost:8080/"
    },
    "id": "5liD4u2aNjud",
    "outputId": "916d4222-93aa-4812-da3b-ebcc92e955af"
   },
   "outputs": [
    {
     "name": "stdout",
     "output_type": "stream",
     "text": [
      "      movieId                           title  \\\n",
      "5           6                     Heat (1995)   \n",
      "6           7                  Sabrina (1995)   \n",
      "7           8             Tom and Huck (1995)   \n",
      "8           9             Sudden Death (1995)   \n",
      "9          10                GoldenEye (1995)   \n",
      "...       ...                             ...   \n",
      "9699   185029            A Quiet Place (2018)   \n",
      "9703   185435          Game Over, Man! (2018)   \n",
      "9709   187593               Deadpool 2 (2018)   \n",
      "9710   187595  Solo: A Star Wars Story (2018)   \n",
      "9713   188301     Ant-Man and the Wasp (2018)   \n",
      "\n",
      "                                      genres  \n",
      "5                      Action|Crime|Thriller  \n",
      "6                             Comedy|Romance  \n",
      "7                         Adventure|Children  \n",
      "8                                     Action  \n",
      "9                  Action|Adventure|Thriller  \n",
      "...                                      ...  \n",
      "9699                   Drama|Horror|Thriller  \n",
      "9703                           Action|Comedy  \n",
      "9709                    Action|Comedy|Sci-Fi  \n",
      "9710        Action|Adventure|Children|Sci-Fi  \n",
      "9713  Action|Adventure|Comedy|Fantasy|Sci-Fi  \n",
      "\n",
      "[5150 rows x 3 columns]\n"
     ]
    }
   ],
   "source": [
    "recommended_movie=movies_df.loc[movies_df['movieId'].isin(recommendation_df['movieId'])]\n",
    "\n",
    "#we don't want to recommend the same movie\n",
    "recommended_movie=recommended_movie.loc[~recommended_movie.movieId.isin(userSubset['movieId'])]\n",
    "\n",
    "print(recommended_movie)"
   ]
  },
  {
   "cell_type": "code",
   "execution_count": null,
   "metadata": {
    "id": "1z7iFHhVNjud"
   },
   "outputs": [],
   "source": []
  }
 ],
 "metadata": {
  "colab": {
   "provenance": []
  },
  "kernelspec": {
   "display_name": "Python 3 (ipykernel)",
   "language": "python",
   "name": "python3"
  },
  "language_info": {
   "codemirror_mode": {
    "name": "ipython",
    "version": 3
   },
   "file_extension": ".py",
   "mimetype": "text/x-python",
   "name": "python",
   "nbconvert_exporter": "python",
   "pygments_lexer": "ipython3",
   "version": "3.10.7"
  }
 },
 "nbformat": 4,
 "nbformat_minor": 4
}
